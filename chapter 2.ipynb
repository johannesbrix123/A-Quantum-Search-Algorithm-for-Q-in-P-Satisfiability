{
 "cells": [
  {
   "cell_type": "markdown",
   "id": "86ba20c2",
   "metadata": {},
   "source": [
    "# Fundamentals"
   ]
  },
  {
   "cell_type": "markdown",
   "id": "661bea13",
   "metadata": {},
   "source": [
    "To get familiar with the different gate operations, we provide some example calculations for one Grover Iteration with 32 assignments, where number 6 is our solution."
   ]
  },
  {
   "cell_type": "code",
   "execution_count": 58,
   "id": "1c0ce77a",
   "metadata": {},
   "outputs": [],
   "source": [
    "import numpy as np"
   ]
  },
  {
   "cell_type": "code",
   "execution_count": 142,
   "id": "3fa50695",
   "metadata": {},
   "outputs": [],
   "source": [
    "def hadamard():\n",
    "    return 1/np.sqrt(2)*np.array([[1, 1], [1, -1]])"
   ]
  },
  {
   "cell_type": "code",
   "execution_count": 143,
   "id": "c596a1c0",
   "metadata": {},
   "outputs": [],
   "source": [
    "def x_gate():\n",
    "    return np.array([[0, 1], [1, 0]])"
   ]
  },
  {
   "cell_type": "code",
   "execution_count": 144,
   "id": "ef5e6764",
   "metadata": {},
   "outputs": [
    {
     "data": {
      "text/plain": [
       "array([[1., 0., 0., 0., 0., 0., 0., 0.],\n",
       "       [0., 1., 0., 0., 0., 0., 0., 0.],\n",
       "       [0., 0., 1., 0., 0., 0., 0., 0.],\n",
       "       [0., 0., 0., 1., 0., 0., 0., 0.],\n",
       "       [0., 0., 0., 0., 1., 0., 0., 0.],\n",
       "       [0., 0., 0., 0., 0., 1., 0., 0.],\n",
       "       [0., 0., 0., 0., 0., 0., 0., 1.],\n",
       "       [0., 0., 0., 0., 0., 0., 1., 0.]])"
      ]
     },
     "execution_count": 144,
     "metadata": {},
     "output_type": "execute_result"
    }
   ],
   "source": [
    "def multi_controlled_x_gate(k, i): # k control qubits, i is index of target qubit starting at 0\n",
    "    gate = np.identity(2**k)\n",
    "    \n",
    "    gate[2**k-1, 2**k-1] = 0\n",
    "    gate[2**k-1, 2**k-1-2**(k-i)] = 1\n",
    "    gate[2**k-1-2**(k-i), 2**k-1-2**(k-i)] = 0\n",
    "    gate[2**k-1-2**(k-i), 2**k-1] = 1\n",
    "    \n",
    "    return gate\n",
    "\n",
    "multi_controlled_x_gate(3, 3) "
   ]
  },
  {
   "cell_type": "code",
   "execution_count": 145,
   "id": "d680e923",
   "metadata": {},
   "outputs": [],
   "source": [
    "def tensor(A, B):\n",
    "    n1, m1 = np.shape(A)\n",
    "    n2, m2 = np.shape(B)\n",
    "    \n",
    "    new_matrix = np.zeros((n1*n2, m1*m2))\n",
    "    \n",
    "    for i in range(n1):\n",
    "        for j in range(m1):\n",
    "             new_matrix[i*n2:(i+1)*n2, j*m2:(j+1)*m2] = A[i, j] * B\n",
    "                \n",
    "    return new_matrix"
   ]
  },
  {
   "cell_type": "code",
   "execution_count": 146,
   "id": "1edc9766",
   "metadata": {},
   "outputs": [],
   "source": [
    "def probabilities(state_vector):\n",
    "    return state_vector**2"
   ]
  },
  {
   "cell_type": "markdown",
   "id": "6a55098f",
   "metadata": {},
   "source": [
    "## Calculating one Grover Iteration"
   ]
  },
  {
   "cell_type": "markdown",
   "id": "0cf26ae3",
   "metadata": {},
   "source": [
    "Initialization"
   ]
  },
  {
   "cell_type": "code",
   "execution_count": 172,
   "id": "b02bd806",
   "metadata": {},
   "outputs": [],
   "source": [
    "n = 5 # number of variables"
   ]
  },
  {
   "cell_type": "code",
   "execution_count": 173,
   "id": "7bcdb810",
   "metadata": {},
   "outputs": [],
   "source": [
    "solutions = np.array([[6]])"
   ]
  },
  {
   "cell_type": "code",
   "execution_count": 174,
   "id": "63a04e1e",
   "metadata": {},
   "outputs": [],
   "source": [
    "state_vector = np.zeros(2**(n)) # with res qubit\n",
    "state_vector[0] = 1 # |000> state"
   ]
  },
  {
   "cell_type": "markdown",
   "id": "4e343593",
   "metadata": {},
   "source": [
    "State preparation"
   ]
  },
  {
   "cell_type": "code",
   "execution_count": 175,
   "id": "94b01221",
   "metadata": {},
   "outputs": [],
   "source": [
    "state_prep = tensor(tensor(tensor(tensor(hadamard(), hadamard()), hadamard()), hadamard()), hadamard())"
   ]
  },
  {
   "cell_type": "code",
   "execution_count": 176,
   "id": "dc00905e",
   "metadata": {},
   "outputs": [],
   "source": [
    "state_vector = state_prep @ state_vector"
   ]
  },
  {
   "cell_type": "code",
   "execution_count": 177,
   "id": "b44399e2",
   "metadata": {},
   "outputs": [
    {
     "data": {
      "text/plain": [
       "array([0.03125, 0.03125, 0.03125, 0.03125, 0.03125, 0.03125, 0.03125,\n",
       "       0.03125, 0.03125, 0.03125, 0.03125, 0.03125, 0.03125, 0.03125,\n",
       "       0.03125, 0.03125, 0.03125, 0.03125, 0.03125, 0.03125, 0.03125,\n",
       "       0.03125, 0.03125, 0.03125, 0.03125, 0.03125, 0.03125, 0.03125,\n",
       "       0.03125, 0.03125, 0.03125, 0.03125])"
      ]
     },
     "execution_count": 177,
     "metadata": {},
     "output_type": "execute_result"
    }
   ],
   "source": [
    "probabilities(state_vector)"
   ]
  },
  {
   "cell_type": "markdown",
   "id": "0c9e50c5",
   "metadata": {},
   "source": [
    "Phase flip of the solution |01100> "
   ]
  },
  {
   "cell_type": "code",
   "execution_count": 178,
   "id": "ac756c26",
   "metadata": {},
   "outputs": [],
   "source": [
    "oracle = np.identity(2**n) "
   ]
  },
  {
   "cell_type": "code",
   "execution_count": 179,
   "id": "8bbc1bdb",
   "metadata": {},
   "outputs": [],
   "source": [
    "oracle[solutions - 1, solutions - 1] *= -1"
   ]
  },
  {
   "cell_type": "code",
   "execution_count": 180,
   "id": "9f8be911",
   "metadata": {},
   "outputs": [
    {
     "data": {
      "text/plain": [
       "array([[1., 0., 0., ..., 0., 0., 0.],\n",
       "       [0., 1., 0., ..., 0., 0., 0.],\n",
       "       [0., 0., 1., ..., 0., 0., 0.],\n",
       "       ...,\n",
       "       [0., 0., 0., ..., 1., 0., 0.],\n",
       "       [0., 0., 0., ..., 0., 1., 0.],\n",
       "       [0., 0., 0., ..., 0., 0., 1.]])"
      ]
     },
     "execution_count": 180,
     "metadata": {},
     "output_type": "execute_result"
    }
   ],
   "source": [
    "oracle"
   ]
  },
  {
   "cell_type": "code",
   "execution_count": 181,
   "id": "d1d32cbc",
   "metadata": {},
   "outputs": [],
   "source": [
    "state_vector = oracle @ state_vector"
   ]
  },
  {
   "cell_type": "code",
   "execution_count": 182,
   "id": "67e86f03",
   "metadata": {},
   "outputs": [
    {
     "data": {
      "text/plain": [
       "array([ 0.1767767,  0.1767767,  0.1767767,  0.1767767,  0.1767767,\n",
       "       -0.1767767,  0.1767767,  0.1767767,  0.1767767,  0.1767767,\n",
       "        0.1767767,  0.1767767,  0.1767767,  0.1767767,  0.1767767,\n",
       "        0.1767767,  0.1767767,  0.1767767,  0.1767767,  0.1767767,\n",
       "        0.1767767,  0.1767767,  0.1767767,  0.1767767,  0.1767767,\n",
       "        0.1767767,  0.1767767,  0.1767767,  0.1767767,  0.1767767,\n",
       "        0.1767767,  0.1767767])"
      ]
     },
     "execution_count": 182,
     "metadata": {},
     "output_type": "execute_result"
    }
   ],
   "source": [
    "state_vector"
   ]
  },
  {
   "cell_type": "code",
   "execution_count": 183,
   "id": "85e43889",
   "metadata": {},
   "outputs": [
    {
     "data": {
      "text/plain": [
       "array([0.03125, 0.03125, 0.03125, 0.03125, 0.03125, 0.03125, 0.03125,\n",
       "       0.03125, 0.03125, 0.03125, 0.03125, 0.03125, 0.03125, 0.03125,\n",
       "       0.03125, 0.03125, 0.03125, 0.03125, 0.03125, 0.03125, 0.03125,\n",
       "       0.03125, 0.03125, 0.03125, 0.03125, 0.03125, 0.03125, 0.03125,\n",
       "       0.03125, 0.03125, 0.03125, 0.03125])"
      ]
     },
     "execution_count": 183,
     "metadata": {},
     "output_type": "execute_result"
    }
   ],
   "source": [
    "probabilities(state_vector)"
   ]
  },
  {
   "cell_type": "markdown",
   "id": "e478c33e",
   "metadata": {},
   "source": [
    "Diffusion operator"
   ]
  },
  {
   "cell_type": "code",
   "execution_count": 184,
   "id": "aa6413fa",
   "metadata": {},
   "outputs": [],
   "source": [
    "diffuser = tensor(tensor(tensor(tensor(hadamard(), hadamard()), hadamard()), hadamard()), hadamard())"
   ]
  },
  {
   "cell_type": "code",
   "execution_count": 185,
   "id": "76b3ccbb",
   "metadata": {},
   "outputs": [],
   "source": [
    "diffuser = tensor(tensor(tensor(tensor(x_gate(), x_gate()), x_gate()), x_gate()), x_gate()) @diffuser"
   ]
  },
  {
   "cell_type": "code",
   "execution_count": 186,
   "id": "98f26fdc",
   "metadata": {},
   "outputs": [],
   "source": [
    "diffuser = tensor(np.identity(2**(n-1)), hadamard()) @ diffuser"
   ]
  },
  {
   "cell_type": "code",
   "execution_count": 187,
   "id": "3812382e",
   "metadata": {},
   "outputs": [],
   "source": [
    "diffuser = multi_controlled_x_gate(5, 5) @ diffuser"
   ]
  },
  {
   "cell_type": "code",
   "execution_count": 188,
   "id": "26b2d4ba",
   "metadata": {},
   "outputs": [],
   "source": [
    "diffuser = tensor(np.identity(2**(n-1)), hadamard()) @ diffuser"
   ]
  },
  {
   "cell_type": "code",
   "execution_count": 189,
   "id": "f85a20cf",
   "metadata": {},
   "outputs": [],
   "source": [
    "diffuser = tensor(tensor(tensor(tensor(x_gate(), x_gate()), x_gate()), x_gate()), x_gate()) @ diffuser"
   ]
  },
  {
   "cell_type": "code",
   "execution_count": 190,
   "id": "50c41271",
   "metadata": {},
   "outputs": [],
   "source": [
    "diffuser = tensor(tensor(tensor(tensor(hadamard(), hadamard()), hadamard()), hadamard()), hadamard()) @ diffuser"
   ]
  },
  {
   "cell_type": "code",
   "execution_count": 191,
   "id": "7161ef7d",
   "metadata": {},
   "outputs": [
    {
     "data": {
      "text/plain": [
       "array([[ 0.94, -0.06, -0.06, ..., -0.06, -0.06, -0.06],\n",
       "       [-0.06,  0.94, -0.06, ..., -0.06, -0.06, -0.06],\n",
       "       [-0.06, -0.06,  0.94, ..., -0.06, -0.06, -0.06],\n",
       "       ...,\n",
       "       [-0.06, -0.06, -0.06, ...,  0.94, -0.06, -0.06],\n",
       "       [-0.06, -0.06, -0.06, ..., -0.06,  0.94, -0.06],\n",
       "       [-0.06, -0.06, -0.06, ..., -0.06, -0.06,  0.94]])"
      ]
     },
     "execution_count": 191,
     "metadata": {},
     "output_type": "execute_result"
    }
   ],
   "source": [
    "np.round(diffuser, 2)"
   ]
  },
  {
   "cell_type": "code",
   "execution_count": 192,
   "id": "1f8a1005",
   "metadata": {},
   "outputs": [],
   "source": [
    "state_vector = diffuser @ state_vector"
   ]
  },
  {
   "cell_type": "code",
   "execution_count": 195,
   "id": "56c26483",
   "metadata": {},
   "outputs": [
    {
     "data": {
      "text/plain": [
       "array([-0.15467961, -0.15467961, -0.15467961, -0.15467961, -0.15467961,\n",
       "       -0.508233  , -0.15467961, -0.15467961, -0.15467961, -0.15467961,\n",
       "       -0.15467961, -0.15467961, -0.15467961, -0.15467961, -0.15467961,\n",
       "       -0.15467961, -0.15467961, -0.15467961, -0.15467961, -0.15467961,\n",
       "       -0.15467961, -0.15467961, -0.15467961, -0.15467961, -0.15467961,\n",
       "       -0.15467961, -0.15467961, -0.15467961, -0.15467961, -0.15467961,\n",
       "       -0.15467961, -0.15467961])"
      ]
     },
     "execution_count": 195,
     "metadata": {},
     "output_type": "execute_result"
    }
   ],
   "source": [
    "state_vector"
   ]
  },
  {
   "cell_type": "code",
   "execution_count": 193,
   "id": "f8d858f7",
   "metadata": {},
   "outputs": [
    {
     "data": {
      "text/plain": [
       "array([0.02392578, 0.02392578, 0.02392578, 0.02392578, 0.02392578,\n",
       "       0.25830078, 0.02392578, 0.02392578, 0.02392578, 0.02392578,\n",
       "       0.02392578, 0.02392578, 0.02392578, 0.02392578, 0.02392578,\n",
       "       0.02392578, 0.02392578, 0.02392578, 0.02392578, 0.02392578,\n",
       "       0.02392578, 0.02392578, 0.02392578, 0.02392578, 0.02392578,\n",
       "       0.02392578, 0.02392578, 0.02392578, 0.02392578, 0.02392578,\n",
       "       0.02392578, 0.02392578])"
      ]
     },
     "execution_count": 193,
     "metadata": {},
     "output_type": "execute_result"
    }
   ],
   "source": [
    "probabilities(state_vector)"
   ]
  },
  {
   "cell_type": "code",
   "execution_count": 194,
   "id": "01982a30",
   "metadata": {},
   "outputs": [
    {
     "data": {
      "text/plain": [
       "array([0.02, 0.02, 0.02, 0.02, 0.02, 0.26, 0.02, 0.02, 0.02, 0.02, 0.02,\n",
       "       0.02, 0.02, 0.02, 0.02, 0.02, 0.02, 0.02, 0.02, 0.02, 0.02, 0.02,\n",
       "       0.02, 0.02, 0.02, 0.02, 0.02, 0.02, 0.02, 0.02, 0.02, 0.02])"
      ]
     },
     "execution_count": 194,
     "metadata": {},
     "output_type": "execute_result"
    }
   ],
   "source": [
    "np.round(probabilities(state_vector), 2)"
   ]
  },
  {
   "cell_type": "code",
   "execution_count": null,
   "id": "31ae50ee",
   "metadata": {},
   "outputs": [],
   "source": []
  }
 ],
 "metadata": {
  "kernelspec": {
   "display_name": "Python 3 (ipykernel)",
   "language": "python",
   "name": "python3"
  },
  "language_info": {
   "codemirror_mode": {
    "name": "ipython",
    "version": 3
   },
   "file_extension": ".py",
   "mimetype": "text/x-python",
   "name": "python",
   "nbconvert_exporter": "python",
   "pygments_lexer": "ipython3",
   "version": "3.10.9"
  }
 },
 "nbformat": 4,
 "nbformat_minor": 5
}
