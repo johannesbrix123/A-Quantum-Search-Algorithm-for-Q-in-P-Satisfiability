{
 "cells": [
  {
   "cell_type": "markdown",
   "metadata": {},
   "source": [
    "# Shrinking of the Space"
   ]
  },
  {
   "cell_type": "markdown",
   "metadata": {},
   "source": [
    "Important note:\n",
    "This program has to be a SageMath Notebook to run the code \n",
    "\n",
    "Preparation for the oracle implementation: Solve the XOR SAT problem \n",
    "1. Get Kernel of matrix A mod 2 like constructed in the paper\n",
    "2. Get solution of (Ax = b) mod 2 with inhomogenous part b like constructed in the paper"
   ]
  },
  {
   "cell_type": "code",
   "execution_count": 10,
   "metadata": {},
   "outputs": [],
   "source": [
    "import numpy as np "
   ]
  },
  {
   "cell_type": "code",
   "execution_count": 11,
   "metadata": {},
   "outputs": [
    {
     "name": "stdout",
     "output_type": "stream",
     "text": [
      "[[1 1 1 0 0]\n",
      " [0 1 1 1 0]\n",
      " [0 0 1 1 1]]\n",
      "[0 0 1]\n"
     ]
    }
   ],
   "source": [
    "p = 3\n",
    "q = 1\n",
    "eps = 1e-10\n",
    "\n",
    "# get q-in-p-SAT problem instance (Variables start with 1 for x_1)\n",
    "constraints = np.array([[1, -2, 3], [2, -3, 4], [-3, -4, 5]])\n",
    "\n",
    "M = len(constraints) # number constraints\n",
    "n = np.max(constraints.max()) # number variables\n",
    "\n",
    "# change Instance to XOR instance\n",
    "A = np.zeros((M, n), dtype = 'int')\n",
    "b = np.zeros(M, dtype = 'int')\n",
    "\n",
    "# A_ij = 1 if variable x_j is in clause i\n",
    "for row, clause in enumerate(constraints):\n",
    "    A[row, np.abs(clause) - 1] = 1\n",
    "    \n",
    "    v_a = 0\n",
    "    for var in clause:\n",
    "        if var < 0:\n",
    "            v_a += 1\n",
    "    \n",
    "    # q + number of negated variables in clause\n",
    "    b[row] = (q + v_a) % 2\n",
    "\n",
    "print(A)\n",
    "print(b)"
   ]
  },
  {
   "cell_type": "code",
   "execution_count": 12,
   "metadata": {},
   "outputs": [
    {
     "name": "stdout",
     "output_type": "stream",
     "text": [
      "Null space of A:\n",
      " [1 0 1 1 0]\n",
      "[0 1 1 0 1]\n"
     ]
    }
   ],
   "source": [
    "# get kernel of matrix\n",
    "A = matrix(GF(2), A)\n",
    "b = vector(GF(2), b)\n",
    "null_space = A.right_kernel()\n",
    "null_space = null_space.basis_matrix()\n",
    "print(\"Null space of A:\\n\", null_space)"
   ]
  },
  {
   "cell_type": "code",
   "execution_count": 13,
   "metadata": {},
   "outputs": [
    {
     "name": "stdout",
     "output_type": "stream",
     "text": [
      "The value of xi_bar is: (0, 1, 1, 0, 0)\n"
     ]
    }
   ],
   "source": [
    "# get a binary solution of (Ax = b) mod 2\n",
    "xi_bar = A \\ b\n",
    "print('The value of xi_bar is:', xi_bar)"
   ]
  },
  {
   "cell_type": "code",
   "execution_count": 14,
   "metadata": {},
   "outputs": [],
   "source": [
    "xi_bar = np.array(xi_bar)\n",
    "null_space = np.array(null_space)"
   ]
  },
  {
   "cell_type": "code",
   "execution_count": 15,
   "metadata": {},
   "outputs": [
    {
     "name": "stdout",
     "output_type": "stream",
     "text": [
      "array([[1, 0, 1, 1, 0],\n",
      "       [0, 1, 1, 0, 1]], dtype=object)\n",
      "array([0, 1, 1, 0, 0], dtype=object)\n"
     ]
    }
   ],
   "source": [
    "# print out the variables we need properly so we can copy and use them in the quantum part\n",
    "xi_bar_repr = repr(xi_bar)\n",
    "null_space_repr = repr(null_space)\n",
    "\n",
    "# Copy the string representation to another document or location\n",
    "# For example, you can print it and copy the output from the console\n",
    "print(null_space_repr)\n",
    "print(xi_bar_repr)"
   ]
  },
  {
   "cell_type": "markdown",
   "metadata": {},
   "source": [
    "We use the null_space and xi_bar to create our circuit. It shrinks the solution space to all the possible valid assignments of the XOR-SAT problem. In the section below, you can see all possible variable assignments for instances which solve the XOR-SAT problem. "
   ]
  },
  {
   "cell_type": "code",
   "execution_count": 16,
   "metadata": {},
   "outputs": [],
   "source": [
    "import itertools"
   ]
  },
  {
   "cell_type": "code",
   "execution_count": 17,
   "metadata": {},
   "outputs": [
    {
     "name": "stdout",
     "output_type": "stream",
     "text": [
      "[(0, 0), (0, 1), (1, 0), (1, 1)]\n"
     ]
    }
   ],
   "source": [
    "# generate all possible binary combinations to get all linear combinations of vectors x\n",
    "k = len(null_space)\n",
    "binary_combinations = list(itertools.product([0, 1], repeat=k))\n",
    "print(binary_combinations)"
   ]
  },
  {
   "cell_type": "code",
   "execution_count": 18,
   "metadata": {},
   "outputs": [
    {
     "name": "stdout",
     "output_type": "stream",
     "text": [
      "[[0 1 1 0 0]\n",
      " [0 0 0 0 1]\n",
      " [1 1 0 1 0]\n",
      " [1 0 1 1 1]]\n",
      "Test: [0 0 1]\n",
      "Test: [0 0 1]\n",
      "Test: [0 0 1]\n",
      "Test: [0 0 1]\n"
     ]
    }
   ],
   "source": [
    "# create subspace with all possible solutions to the XOR-SAT problem\n",
    "subspace = np.tile(xi_bar, (2 **k, 1)) # add xi_bar to every clause\n",
    "\n",
    "for i, binary_combi in enumerate(binary_combinations):\n",
    "    for pos, var in enumerate(binary_combi):\n",
    "        subspace[i, :] += var * null_space[pos]\n",
    "\n",
    "# we get a list of all possible solutions for p-XOR problem [variable assignment 1, variable assignment 2, ,...] \n",
    "print(subspace)\n",
    "for s in subspace:\n",
    "    print('Test:', np.dot(A, s))"
   ]
  },
  {
   "cell_type": "code",
   "execution_count": null,
   "metadata": {},
   "outputs": [],
   "source": []
  }
 ],
 "metadata": {
  "kernelspec": {
   "display_name": "SageMath 9.3",
   "language": "sage",
   "name": "sagemath"
  },
  "language_info": {
   "codemirror_mode": {
    "name": "ipython",
    "version": 3
   },
   "file_extension": ".py",
   "mimetype": "text/x-python",
   "name": "python",
   "nbconvert_exporter": "python",
   "pygments_lexer": "ipython3",
   "version": "3.7.10"
  }
 },
 "nbformat": 4,
 "nbformat_minor": 4
}
